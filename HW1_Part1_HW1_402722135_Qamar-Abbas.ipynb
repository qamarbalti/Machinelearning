{
  "nbformat": 4,
  "nbformat_minor": 0,
  "metadata": {
    "colab": {
      "provenance": []
    },
    "kernelspec": {
      "name": "python3",
      "display_name": "Python 3"
    },
    "language_info": {
      "name": "python"
    }
  },
  "cells": [
    {
      "cell_type": "code",
      "source": [
        "import pandas as pd\n",
        "import math\n",
        "from collections import Counter\n",
        "from graphviz import Digraph\n",
        "from IPython.display import Image"
      ],
      "metadata": {
        "id": "7Q76wl9vo6Z7"
      },
      "execution_count": 1,
      "outputs": []
    },
    {
      "cell_type": "markdown",
      "source": [
        "# Decision Tree Algorithm"
      ],
      "metadata": {
        "id": "pZK6OX_QRpeM"
      }
    },
    {
      "cell_type": "code",
      "source": [
        "class DecisionNode:\n",
        "    def __init__(self, attribute):\n",
        "        self.attribute = attribute\n",
        "        self.children = {}\n",
        "\n",
        "    def add_child(self, value, node):\n",
        "        self.children[value] = node\n",
        "\n",
        "class LeafNode:\n",
        "    def __init__(self, classification):\n",
        "        self.classification = classification\n",
        "\n",
        "def entropy(examples):\n",
        "    counts = examples.value_counts(normalize=True)\n",
        "    return -sum(counts * counts.apply(math.log2))\n",
        "\n",
        "def information_gain(attribute, examples):\n",
        "    attribute_values = examples[attribute].unique()\n",
        "    remainder = 0\n",
        "    for value in attribute_values:\n",
        "        exs = examples[examples[attribute] == value]\n",
        "        remainder += (len(exs) / len(examples)) * entropy(exs[\"WillWait\"])\n",
        "    return entropy(examples[\"WillWait\"]) - remainder\n",
        "\n",
        "def plurality_value(examples):\n",
        "    counts = examples[\"WillWait\"].value_counts()\n",
        "    return LeafNode(counts.idxmax())\n",
        "\n",
        "def decision_tree_learning(examples, attributes, parent_examples):\n",
        "    if len(examples) == 0:\n",
        "        return plurality_value(parent_examples)\n",
        "    elif len(examples[\"WillWait\"].unique()) == 1:\n",
        "        return LeafNode(examples[\"WillWait\"].iloc[0])\n",
        "    elif len(attributes) == 0:\n",
        "        return plurality_value(examples)\n",
        "    else:\n",
        "        A = max(attributes, key=lambda a: information_gain(a, examples))\n",
        "        node = DecisionNode(A)\n",
        "        for value in examples[A].unique():\n",
        "            exs = examples[examples[A] == value].drop(A, axis=1)\n",
        "            subtree = decision_tree_learning(exs, attributes - set([A]), examples)\n",
        "            node.add_child(value, subtree)\n",
        "        return node"
      ],
      "metadata": {
        "id": "JNK39ks_tRrd"
      },
      "execution_count": 2,
      "outputs": []
    },
    {
      "cell_type": "markdown",
      "source": [
        "# Load the dataset"
      ],
      "metadata": {
        "id": "uK1tsxt8Rwv6"
      }
    },
    {
      "cell_type": "markdown",
      "source": [],
      "metadata": {
        "id": "faRHlPgNRwsr"
      }
    },
    {
      "cell_type": "code",
      "source": [
        "# read dataset\n",
        "df = pd.read_csv(\"Resturant.csv\")"
      ],
      "metadata": {
        "id": "rWzM-1KGNu5-"
      },
      "execution_count": 3,
      "outputs": []
    },
    {
      "cell_type": "code",
      "source": [
        "df.head(12)"
      ],
      "metadata": {
        "colab": {
          "base_uri": "https://localhost:8080/",
          "height": 425
        },
        "id": "RARBEPW2N48T",
        "outputId": "8b823d9e-69e0-4aaa-f05c-6c02c4d6f0c9"
      },
      "execution_count": 4,
      "outputs": [
        {
          "output_type": "execute_result",
          "data": {
            "text/plain": [
              "    Alt  Bar  Fri  Hun   Pat  Price  Rain  Res     Type     Est  WillWait\n",
              "0     1    0    0    1  Some      3     0    1   French    0-10         1\n",
              "1     1    0    0    1  Full      1     0    0     Thai   30-60         0\n",
              "2     0    1    0    0  Some      1     0    0   Burger    0-10         1\n",
              "3     1    0    1    1  Full      1     1    0     Thai  30-Oct         1\n",
              "4     1    0    1    0  Full      3     0    1   French     >60         0\n",
              "5     0    1    0    1  Some      2     1    1  Italian    0-10         1\n",
              "6     0    1    0    0  None      1     1    0   Burger    0-10         0\n",
              "7     0    0    0    1  Some      2     1    1     Thai    0-10         1\n",
              "8     0    1    1    0  Full      1     1    0   Burger     >60         0\n",
              "9     1    1    1    1  Full      3     0    1  Italian  30-Oct         0\n",
              "10    0    0    0    0  None      1     0    0     Thai    0-10         0\n",
              "11    1    1    1    1  Full      1     0    0   Burger   30-60         1"
            ],
            "text/html": [
              "\n",
              "  <div id=\"df-834ad02d-042c-439f-b5fb-b43426d4f14a\">\n",
              "    <div class=\"colab-df-container\">\n",
              "      <div>\n",
              "<style scoped>\n",
              "    .dataframe tbody tr th:only-of-type {\n",
              "        vertical-align: middle;\n",
              "    }\n",
              "\n",
              "    .dataframe tbody tr th {\n",
              "        vertical-align: top;\n",
              "    }\n",
              "\n",
              "    .dataframe thead th {\n",
              "        text-align: right;\n",
              "    }\n",
              "</style>\n",
              "<table border=\"1\" class=\"dataframe\">\n",
              "  <thead>\n",
              "    <tr style=\"text-align: right;\">\n",
              "      <th></th>\n",
              "      <th>Alt</th>\n",
              "      <th>Bar</th>\n",
              "      <th>Fri</th>\n",
              "      <th>Hun</th>\n",
              "      <th>Pat</th>\n",
              "      <th>Price</th>\n",
              "      <th>Rain</th>\n",
              "      <th>Res</th>\n",
              "      <th>Type</th>\n",
              "      <th>Est</th>\n",
              "      <th>WillWait</th>\n",
              "    </tr>\n",
              "  </thead>\n",
              "  <tbody>\n",
              "    <tr>\n",
              "      <th>0</th>\n",
              "      <td>1</td>\n",
              "      <td>0</td>\n",
              "      <td>0</td>\n",
              "      <td>1</td>\n",
              "      <td>Some</td>\n",
              "      <td>3</td>\n",
              "      <td>0</td>\n",
              "      <td>1</td>\n",
              "      <td>French</td>\n",
              "      <td>0-10</td>\n",
              "      <td>1</td>\n",
              "    </tr>\n",
              "    <tr>\n",
              "      <th>1</th>\n",
              "      <td>1</td>\n",
              "      <td>0</td>\n",
              "      <td>0</td>\n",
              "      <td>1</td>\n",
              "      <td>Full</td>\n",
              "      <td>1</td>\n",
              "      <td>0</td>\n",
              "      <td>0</td>\n",
              "      <td>Thai</td>\n",
              "      <td>30-60</td>\n",
              "      <td>0</td>\n",
              "    </tr>\n",
              "    <tr>\n",
              "      <th>2</th>\n",
              "      <td>0</td>\n",
              "      <td>1</td>\n",
              "      <td>0</td>\n",
              "      <td>0</td>\n",
              "      <td>Some</td>\n",
              "      <td>1</td>\n",
              "      <td>0</td>\n",
              "      <td>0</td>\n",
              "      <td>Burger</td>\n",
              "      <td>0-10</td>\n",
              "      <td>1</td>\n",
              "    </tr>\n",
              "    <tr>\n",
              "      <th>3</th>\n",
              "      <td>1</td>\n",
              "      <td>0</td>\n",
              "      <td>1</td>\n",
              "      <td>1</td>\n",
              "      <td>Full</td>\n",
              "      <td>1</td>\n",
              "      <td>1</td>\n",
              "      <td>0</td>\n",
              "      <td>Thai</td>\n",
              "      <td>30-Oct</td>\n",
              "      <td>1</td>\n",
              "    </tr>\n",
              "    <tr>\n",
              "      <th>4</th>\n",
              "      <td>1</td>\n",
              "      <td>0</td>\n",
              "      <td>1</td>\n",
              "      <td>0</td>\n",
              "      <td>Full</td>\n",
              "      <td>3</td>\n",
              "      <td>0</td>\n",
              "      <td>1</td>\n",
              "      <td>French</td>\n",
              "      <td>&gt;60</td>\n",
              "      <td>0</td>\n",
              "    </tr>\n",
              "    <tr>\n",
              "      <th>5</th>\n",
              "      <td>0</td>\n",
              "      <td>1</td>\n",
              "      <td>0</td>\n",
              "      <td>1</td>\n",
              "      <td>Some</td>\n",
              "      <td>2</td>\n",
              "      <td>1</td>\n",
              "      <td>1</td>\n",
              "      <td>Italian</td>\n",
              "      <td>0-10</td>\n",
              "      <td>1</td>\n",
              "    </tr>\n",
              "    <tr>\n",
              "      <th>6</th>\n",
              "      <td>0</td>\n",
              "      <td>1</td>\n",
              "      <td>0</td>\n",
              "      <td>0</td>\n",
              "      <td>None</td>\n",
              "      <td>1</td>\n",
              "      <td>1</td>\n",
              "      <td>0</td>\n",
              "      <td>Burger</td>\n",
              "      <td>0-10</td>\n",
              "      <td>0</td>\n",
              "    </tr>\n",
              "    <tr>\n",
              "      <th>7</th>\n",
              "      <td>0</td>\n",
              "      <td>0</td>\n",
              "      <td>0</td>\n",
              "      <td>1</td>\n",
              "      <td>Some</td>\n",
              "      <td>2</td>\n",
              "      <td>1</td>\n",
              "      <td>1</td>\n",
              "      <td>Thai</td>\n",
              "      <td>0-10</td>\n",
              "      <td>1</td>\n",
              "    </tr>\n",
              "    <tr>\n",
              "      <th>8</th>\n",
              "      <td>0</td>\n",
              "      <td>1</td>\n",
              "      <td>1</td>\n",
              "      <td>0</td>\n",
              "      <td>Full</td>\n",
              "      <td>1</td>\n",
              "      <td>1</td>\n",
              "      <td>0</td>\n",
              "      <td>Burger</td>\n",
              "      <td>&gt;60</td>\n",
              "      <td>0</td>\n",
              "    </tr>\n",
              "    <tr>\n",
              "      <th>9</th>\n",
              "      <td>1</td>\n",
              "      <td>1</td>\n",
              "      <td>1</td>\n",
              "      <td>1</td>\n",
              "      <td>Full</td>\n",
              "      <td>3</td>\n",
              "      <td>0</td>\n",
              "      <td>1</td>\n",
              "      <td>Italian</td>\n",
              "      <td>30-Oct</td>\n",
              "      <td>0</td>\n",
              "    </tr>\n",
              "    <tr>\n",
              "      <th>10</th>\n",
              "      <td>0</td>\n",
              "      <td>0</td>\n",
              "      <td>0</td>\n",
              "      <td>0</td>\n",
              "      <td>None</td>\n",
              "      <td>1</td>\n",
              "      <td>0</td>\n",
              "      <td>0</td>\n",
              "      <td>Thai</td>\n",
              "      <td>0-10</td>\n",
              "      <td>0</td>\n",
              "    </tr>\n",
              "    <tr>\n",
              "      <th>11</th>\n",
              "      <td>1</td>\n",
              "      <td>1</td>\n",
              "      <td>1</td>\n",
              "      <td>1</td>\n",
              "      <td>Full</td>\n",
              "      <td>1</td>\n",
              "      <td>0</td>\n",
              "      <td>0</td>\n",
              "      <td>Burger</td>\n",
              "      <td>30-60</td>\n",
              "      <td>1</td>\n",
              "    </tr>\n",
              "  </tbody>\n",
              "</table>\n",
              "</div>\n",
              "      <button class=\"colab-df-convert\" onclick=\"convertToInteractive('df-834ad02d-042c-439f-b5fb-b43426d4f14a')\"\n",
              "              title=\"Convert this dataframe to an interactive table.\"\n",
              "              style=\"display:none;\">\n",
              "        \n",
              "  <svg xmlns=\"http://www.w3.org/2000/svg\" height=\"24px\"viewBox=\"0 0 24 24\"\n",
              "       width=\"24px\">\n",
              "    <path d=\"M0 0h24v24H0V0z\" fill=\"none\"/>\n",
              "    <path d=\"M18.56 5.44l.94 2.06.94-2.06 2.06-.94-2.06-.94-.94-2.06-.94 2.06-2.06.94zm-11 1L8.5 8.5l.94-2.06 2.06-.94-2.06-.94L8.5 2.5l-.94 2.06-2.06.94zm10 10l.94 2.06.94-2.06 2.06-.94-2.06-.94-.94-2.06-.94 2.06-2.06.94z\"/><path d=\"M17.41 7.96l-1.37-1.37c-.4-.4-.92-.59-1.43-.59-.52 0-1.04.2-1.43.59L10.3 9.45l-7.72 7.72c-.78.78-.78 2.05 0 2.83L4 21.41c.39.39.9.59 1.41.59.51 0 1.02-.2 1.41-.59l7.78-7.78 2.81-2.81c.8-.78.8-2.07 0-2.86zM5.41 20L4 18.59l7.72-7.72 1.47 1.35L5.41 20z\"/>\n",
              "  </svg>\n",
              "      </button>\n",
              "      \n",
              "  <style>\n",
              "    .colab-df-container {\n",
              "      display:flex;\n",
              "      flex-wrap:wrap;\n",
              "      gap: 12px;\n",
              "    }\n",
              "\n",
              "    .colab-df-convert {\n",
              "      background-color: #E8F0FE;\n",
              "      border: none;\n",
              "      border-radius: 50%;\n",
              "      cursor: pointer;\n",
              "      display: none;\n",
              "      fill: #1967D2;\n",
              "      height: 32px;\n",
              "      padding: 0 0 0 0;\n",
              "      width: 32px;\n",
              "    }\n",
              "\n",
              "    .colab-df-convert:hover {\n",
              "      background-color: #E2EBFA;\n",
              "      box-shadow: 0px 1px 2px rgba(60, 64, 67, 0.3), 0px 1px 3px 1px rgba(60, 64, 67, 0.15);\n",
              "      fill: #174EA6;\n",
              "    }\n",
              "\n",
              "    [theme=dark] .colab-df-convert {\n",
              "      background-color: #3B4455;\n",
              "      fill: #D2E3FC;\n",
              "    }\n",
              "\n",
              "    [theme=dark] .colab-df-convert:hover {\n",
              "      background-color: #434B5C;\n",
              "      box-shadow: 0px 1px 3px 1px rgba(0, 0, 0, 0.15);\n",
              "      filter: drop-shadow(0px 1px 2px rgba(0, 0, 0, 0.3));\n",
              "      fill: #FFFFFF;\n",
              "    }\n",
              "  </style>\n",
              "\n",
              "      <script>\n",
              "        const buttonEl =\n",
              "          document.querySelector('#df-834ad02d-042c-439f-b5fb-b43426d4f14a button.colab-df-convert');\n",
              "        buttonEl.style.display =\n",
              "          google.colab.kernel.accessAllowed ? 'block' : 'none';\n",
              "\n",
              "        async function convertToInteractive(key) {\n",
              "          const element = document.querySelector('#df-834ad02d-042c-439f-b5fb-b43426d4f14a');\n",
              "          const dataTable =\n",
              "            await google.colab.kernel.invokeFunction('convertToInteractive',\n",
              "                                                     [key], {});\n",
              "          if (!dataTable) return;\n",
              "\n",
              "          const docLinkHtml = 'Like what you see? Visit the ' +\n",
              "            '<a target=\"_blank\" href=https://colab.research.google.com/notebooks/data_table.ipynb>data table notebook</a>'\n",
              "            + ' to learn more about interactive tables.';\n",
              "          element.innerHTML = '';\n",
              "          dataTable['output_type'] = 'display_data';\n",
              "          await google.colab.output.renderOutput(dataTable, element);\n",
              "          const docLink = document.createElement('div');\n",
              "          docLink.innerHTML = docLinkHtml;\n",
              "          element.appendChild(docLink);\n",
              "        }\n",
              "      </script>\n",
              "    </div>\n",
              "  </div>\n",
              "  "
            ]
          },
          "metadata": {},
          "execution_count": 4
        }
      ]
    },
    {
      "cell_type": "code",
      "source": [
        "X = df.drop(\"WillWait\", axis=1) # Features are all columns except WillWait"
      ],
      "metadata": {
        "id": "nHPIyp4wOBh0"
      },
      "execution_count": 5,
      "outputs": []
    },
    {
      "cell_type": "code",
      "source": [
        "# train decision tree\n",
        "attributes = set(df.columns) - set([\"WillWait\"])"
      ],
      "metadata": {
        "id": "gz3ZhJ1MOFsK"
      },
      "execution_count": 6,
      "outputs": []
    },
    {
      "cell_type": "code",
      "source": [
        "print(attributes)"
      ],
      "metadata": {
        "colab": {
          "base_uri": "https://localhost:8080/"
        },
        "id": "klvvdgU0OJrS",
        "outputId": "6eaf6392-2d4a-4499-9b53-63bea835f5c5"
      },
      "execution_count": 8,
      "outputs": [
        {
          "output_type": "stream",
          "name": "stdout",
          "text": [
            "{'Price', 'Res', 'Fri', 'Type', 'Est', 'Alt', 'Bar', 'Hun', 'Rain', 'Pat'}\n"
          ]
        }
      ]
    },
    {
      "cell_type": "markdown",
      "source": [
        "# Implement the Algorithm on dataset"
      ],
      "metadata": {
        "id": "048UEX_MR3Vb"
      }
    },
    {
      "cell_type": "code",
      "source": [
        "tree = decision_tree_learning(df, attributes, None)"
      ],
      "metadata": {
        "id": "Z387dJOdtnHy"
      },
      "execution_count": 10,
      "outputs": []
    },
    {
      "cell_type": "markdown",
      "source": [
        "# Print and Display the tree"
      ],
      "metadata": {
        "id": "WRwcuwshR7_S"
      }
    },
    {
      "cell_type": "code",
      "source": [
        "# print decision tree\n",
        "def print_tree(node, indent=0):\n",
        "    if isinstance(node, LeafNode):\n",
        "        print(\" \" * indent, \"Leaf: \", node.classification)\n",
        "    else:\n",
        "        print(\" \" * indent, \"Test: \", node.attribute)\n",
        "        for value, child in node.children.items():\n",
        "            print(\" \" * (indent + 2), value)\n",
        "            print_tree(child, indent + 4)\n",
        "\n",
        "print_tree(tree)"
      ],
      "metadata": {
        "colab": {
          "base_uri": "https://localhost:8080/"
        },
        "id": "iu20oXsvtdzZ",
        "outputId": "6c48cf91-cb3c-4c45-fcc6-3a9eba0e1bbb"
      },
      "execution_count": 11,
      "outputs": [
        {
          "output_type": "stream",
          "name": "stdout",
          "text": [
            " Test:  Pat\n",
            "   Some\n",
            "     Leaf:  1\n",
            "   Full\n",
            "     Test:  Price\n",
            "       1\n",
            "         Test:  Est\n",
            "           30-60\n",
            "             Test:  Type\n",
            "               Thai\n",
            "                 Leaf:  0\n",
            "               Burger\n",
            "                 Leaf:  1\n",
            "           30-Oct\n",
            "             Leaf:  1\n",
            "           >60\n",
            "             Leaf:  0\n",
            "       3\n",
            "         Leaf:  0\n",
            "   None\n",
            "     Leaf:  0\n"
          ]
        }
      ]
    },
    {
      "cell_type": "code",
      "source": [
        "# visualize decision tree\n",
        "def visualize_tree(node, dot):\n",
        "    if isinstance(node, LeafNode):\n",
        "        dot.node(str(id(node)), \"WillWait = \" + str(node.classification))\n",
        "    else:\n",
        "        dot.node(str(id(node)), node.attribute)\n",
        "        for value, child in node.children.items():\n",
        "            child_node_id = id(child)\n",
        "            if isinstance(child, LeafNode):\n",
        "                dot.node(str(child_node_id), \"WillWait = \" + str(child.classification))\n",
        "            else:\n",
        "                dot.node(str(child_node_id), child.attribute)\n",
        "            #dot.edge(str(id(node)), str(child_node_id), label=value)\n",
        "            dot.edge(str(id(node)), str(child_node_id), label=str(value))\n",
        "            #dot.edge(str(id(node)), str(child_node_id), label=value.decode('utf-8'))\n",
        "            visualize_tree(child, dot)\n",
        "\n",
        "dot = Digraph()\n",
        "visualize_tree(tree, dot)\n",
        "dot.render(\"tree.gv\", format=\"png\")"
      ],
      "metadata": {
        "colab": {
          "base_uri": "https://localhost:8080/",
          "height": 36
        },
        "id": "ygyytgcntqIT",
        "outputId": "9dd0e115-4ea3-4146-c109-45aa13cbb691"
      },
      "execution_count": 17,
      "outputs": [
        {
          "output_type": "execute_result",
          "data": {
            "text/plain": [
              "'tree.gv.png'"
            ],
            "application/vnd.google.colaboratory.intrinsic+json": {
              "type": "string"
            }
          },
          "metadata": {},
          "execution_count": 17
        }
      ]
    },
    {
      "cell_type": "code",
      "source": [
        "Image(filename='tree.gv.png')"
      ],
      "metadata": {
        "colab": {
          "base_uri": "https://localhost:8080/",
          "height": 540
        },
        "id": "zxef_vV9yfWl",
        "outputId": "6dbd9ba7-bb3a-4c2e-8c0e-3fd89d641fd3"
      },
      "execution_count": 18,
      "outputs": [
        {
          "output_type": "execute_result",
          "data": {
            "image/png": "[encoded data removed]",
            "text/plain": [
              "<IPython.core.display.Image object>"
            ]
          },
          "metadata": {},
          "execution_count": 18
        }
      ]
    }
  ]
}